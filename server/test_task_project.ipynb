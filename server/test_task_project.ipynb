{
 "cells": [
  {
<<<<<<< Updated upstream
=======
   "metadata": {},
   "cell_type": "markdown",
   "source": "## Tasks and Projects operations",
   "id": "14a235bbd1bebc0"
  },
  {
   "metadata": {
    "ExecuteTime": {
     "end_time": "2024-11-05T06:37:37.904210Z",
     "start_time": "2024-11-05T06:37:35.863264Z"
    }
   },
   "cell_type": "code",
   "source": [
    "# view all projects and tasks of one user\n",
    "import requests\n",
    "create_project_url = 'http://localhost:8000/project'\n",
    "data = {\n",
    "    'user_id': 1,\n",
    "    'username': 'testuser1', #not used\n",
    "    'email': 'test1@example.com' #not used\n",
    "}\n",
    "response = requests.get(create_project_url, json=data)\n",
    "print(response.json())"
   ],
   "id": "6d3cbbe5c15df80d",
   "outputs": [
    {
     "name": "stdout",
     "output_type": "stream",
     "text": [
      "{'message': 'show all project successfully', 'own_project': [], 'project_belong': [[2, 'project_test_1', '', 2, '2024-11-05 06:23:28']], 'tasks': [[9, 'test_task_name1', '', 'Not start', 'High', '2024-11-4', '2024-11-05 06:23:37'], [10, 'test_task_name1', '', 'Not start', 'High', '2024-11-4', '2024-11-05 06:23:43']]}\n"
     ]
    }
   ],
   "execution_count": 63
  },
  {
   "metadata": {
    "ExecuteTime": {
     "end_time": "2024-11-05T06:23:28.071111Z",
     "start_time": "2024-11-05T06:23:26.011724Z"
    }
   },
   "cell_type": "code",
   "source": [
    "# Create project\n",
    "# description is optional, default = \"\"\n",
    "# project_id, and created_at are created by server\n",
    "import requests\n",
    "create_project_url = 'http://localhost:8000/project'\n",
    "data = {\n",
    "    \"project_id\": 2, #可选，默认是递增\n",
    "    \"owner_id\": 2,\n",
    "    \"project_name\": \"project_test_1\"}\n",
    "\n",
    "response = requests.post(create_project_url, json=data)\n",
    "print(response.json())"
   ],
   "id": "81300717a9878a12",
   "outputs": [
    {
     "name": "stdout",
     "output_type": "stream",
     "text": [
      "{'message': 'Project registered successfully'}\n"
     ]
    }
   ],
   "execution_count": 53
  },
  {
   "metadata": {
    "ExecuteTime": {
     "end_time": "2024-11-05T06:27:42.967297Z",
     "start_time": "2024-11-05T06:27:40.913845Z"
    }
   },
   "cell_type": "code",
   "source": [
    "# show one project detail\n",
    "import requests\n",
    "project_detail_url = 'http://localhost:8000/project_detail'\n",
    "data = {\n",
    "    \"project_id\": \"2\"}\n",
    "\n",
    "response = requests.get(project_detail_url, json=data)\n",
    "detail = response.json()\n",
    "print(detail)"
   ],
   "id": "8a5df49fe3883626",
   "outputs": [
    {
     "name": "stdout",
     "output_type": "stream",
     "text": [
      "{'Members': [['testuser']], 'created_at': '2024-11-05 06:23:28', 'description': '', 'message': 'open project successfully', 'name': 'project_test_1', 'owner_id': 2, 'project_id': '2', 'tasks': [['test_task_name1', '', 'Not start', 'High', '2024-11-4', '2024-11-05 06:23:37'], ['test_task_name1', '', 'Not start', 'High', '2024-11-4', '2024-11-05 06:23:43']]}\n"
     ]
    }
   ],
   "execution_count": 58
  },
  {
   "metadata": {
    "ExecuteTime": {
     "end_time": "2024-11-05T06:23:43.121106Z",
     "start_time": "2024-11-05T06:23:41.040249Z"
    }
   },
   "cell_type": "code",
   "source": [
    "# Create task\n",
    "# description is optional, default = \"\"\n",
    "# task_id and created_at are created by server\n",
    "import requests\n",
    "create_task_url = 'http://localhost:8000/project_detail'\n",
    "data = {\n",
    "    \"creator_id\": 2, #创建请求的发起者\n",
    "    \"project_id\": 2, #在project_id项目创建\n",
    "    \"task_name\": \"test_task_name1\",\n",
    "    \"status\": \"Not start\",\n",
    "    \"priority\": \"High\",\n",
    "    \"due_date\":'2024-11-4',\n",
    "    \"users\" : ['testuser'] #should be list with username\n",
    "}\n",
    "response = requests.post(create_task_url, json=data)\n",
    "detail = response.json()\n",
    "print(detail)"
   ],
   "id": "efeedeeadb025536",
   "outputs": [
    {
     "name": "stdout",
     "output_type": "stream",
     "text": [
      "{'message': 'Task registered successfully'}\n"
     ]
    }
   ],
   "execution_count": 55
  },
  {
   "metadata": {
    "ExecuteTime": {
     "end_time": "2024-11-05T06:13:31.838916Z",
     "start_time": "2024-11-05T06:13:29.794935Z"
    }
   },
   "cell_type": "code",
   "source": [
    "# delete one task\n",
    "import requests\n",
    "url = 'http://localhost:8000/project_detail'\n",
    "data = {\n",
    "    'task_id': 6,\n",
    "    \"creator_id\": 2, #这俩大概可以在前端判断？毕竟是打开一个项目后选择删除任务 (请求发起者\n",
    "    \"owner_id\": 2 #这俩大概可以在前端判断？毕竟是打开一个项目后选择删除任务\n",
    "}\n",
    "response = requests.delete(url, json=data)\n",
    "detail = response.json()\n",
    "print(detail)"
   ],
   "id": "9f57ab065b958d3d",
   "outputs": [
    {
     "name": "stdout",
     "output_type": "stream",
     "text": [
      "{'error': 'No such task'}\n"
     ]
    }
   ],
   "execution_count": 50
  },
  {
   "metadata": {
    "ExecuteTime": {
     "end_time": "2024-11-05T06:12:40.563132Z",
     "start_time": "2024-11-05T06:12:38.488623Z"
    }
   },
   "cell_type": "code",
   "source": [
    "# delete one project\n",
    "import requests\n",
    "url = 'http://localhost:8000/project'\n",
    "data = {\n",
    "    \"creator_id\": 2,\n",
    "    \"project_id\": 2\n",
    "}\n",
    "response = requests.delete(url, json=data)\n",
    "detail = response.json()\n",
    "print(detail)"
   ],
   "id": "2c085e3e778eb5ba",
   "outputs": [
    {
     "name": "stdout",
     "output_type": "stream",
     "text": [
      "{'message': 'Project deleted successfully'}\n"
     ]
    }
   ],
   "execution_count": 49
  },
  {
   "metadata": {},
   "cell_type": "code",
   "outputs": [],
   "execution_count": null,
   "source": [
    "# delete one task\n",
    "import requests\n",
    "url = 'http://localhost:8000/project_detail'\n",
    "data = {\n",
    "    \"creator_id\": 2,\n",
    "    \"project_id\": 2\n",
    "}\n",
    "response = requests.put(url, json=data)\n",
    "detail = response.json()\n",
    "print(detail)"
   ],
   "id": "97ac16e6436a5b11"
  },
  {
>>>>>>> Stashed changes
   "cell_type": "code",
   "execution_count": null,
   "id": "initial_id",
   "metadata": {
    "collapsed": true
   },
   "outputs": [],
   "source": [
<<<<<<< Updated upstream
    ""
=======
    "# delete one project\n",
    "import requests\n",
    "url = 'http://localhost:8000/project'\n",
    "data = {\n",
    "    \"creator_id\": 2,\n",
    "    \"project_id\": 2\n",
    "}\n",
    "response = requests.put(url, json=data)\n",
    "detail = response.json()\n",
    "print(detail)"
>>>>>>> Stashed changes
   ]
  }
 ],
 "metadata": {
  "kernelspec": {
   "display_name": "Python 3",
   "language": "python",
   "name": "python3"
  },
  "language_info": {
   "codemirror_mode": {
    "name": "ipython",
    "version": 2
   },
   "file_extension": ".py",
   "mimetype": "text/x-python",
   "name": "python",
   "nbconvert_exporter": "python",
   "pygments_lexer": "ipython2",
   "version": "2.7.6"
  }
 },
 "nbformat": 4,
 "nbformat_minor": 5
}
