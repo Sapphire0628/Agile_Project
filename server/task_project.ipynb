{
 "cells": [
  {
   "metadata": {},
   "cell_type": "markdown",
   "source": "",
   "id": "35137aa420ecd759"
  },
  {
   "metadata": {},
   "cell_type": "markdown",
   "source": "## Tasks and Projects operations",
   "id": "1cb52a2d0defc7ec"
  },
  {
   "cell_type": "code",
   "id": "initial_id",
   "metadata": {
    "collapsed": true,
    "ExecuteTime": {
     "end_time": "2024-11-05T07:44:24.311383Z",
     "start_time": "2024-11-05T07:44:22.243595Z"
    }
   },
   "source": [
    "# view all projects and tasks of one user\n",
    "# GET\n",
    "import requests\n",
    "create_project_url = 'http://localhost:8000/project'\n",
    "data = {\n",
    "    'user_id': 1,\n",
    "    'username': 'testuser1', #not used\n",
    "    'email': 'test1@example.com' #not used\n",
    "}\n",
    "response = requests.get(create_project_url, json=data)\n",
    "print(response.json())"
   ],
   "outputs": [
    {
     "name": "stdout",
     "output_type": "stream",
     "text": [
      "{'message': 'show all project successfully', 'own_project': [], 'project_belong': [], 'tasks': []}\n"
     ]
    }
   ],
   "execution_count": 6
  },
  {
   "metadata": {
    "ExecuteTime": {
     "end_time": "2024-11-05T07:46:28.548696Z",
     "start_time": "2024-11-05T07:46:26.500544Z"
    }
   },
   "cell_type": "code",
   "source": [
    "# Create project\n",
    "# description is optional, default = \"\"\n",
    "# project_id, and created_at are created by server\n",
    "# POST\n",
    "import requests\n",
    "create_project_url = 'http://localhost:8000/project'\n",
    "data = {\n",
    "    \"project_id\": 1, #可选，默认是递增\n",
    "    \"owner_id\": 2,\n",
    "    \"project_name\": \"project_test_1\"}\n",
    "\n",
    "response = requests.post(create_project_url, json=data)\n",
    "print(response.json())"
   ],
   "id": "c398d07714080018",
   "outputs": [
    {
     "name": "stdout",
     "output_type": "stream",
     "text": [
      "{'message': 'Project registered successfully'}\n"
     ]
    }
   ],
   "execution_count": 10
  },
  {
   "metadata": {
    "ExecuteTime": {
     "end_time": "2024-11-05T07:53:07.231253Z",
     "start_time": "2024-11-05T07:53:05.186760Z"
    }
   },
   "cell_type": "code",
   "source": [
    "# show one project detail\n",
    "# GET\n",
    "import requests\n",
    "project_detail_url = 'http://localhost:8000/project_detail'\n",
    "data = {\n",
    "    \"project_id\": 1}\n",
    "\n",
    "response = requests.get(project_detail_url, json=data)\n",
    "detail = response.json()\n",
    "print(detail)"
   ],
   "id": "2318f2b51136a39c",
   "outputs": [
    {
     "name": "stdout",
     "output_type": "stream",
     "text": [
      "{'Members': [['testuser']], 'created_at': '2024-11-05 07:46:28', 'description': '', 'message': 'open project successfully', 'name': 'project_test_1', 'owner_id': 2, 'project_id': 1, 'tasks': [[3, 'test_task_name1', '', 'Not start', 'High', '2024-11-4', '2024-11-05 07:48:32'], [4, 'test_task_name1', '', 'Not start', 'High', '2024-11-4', '2024-11-05 07:53:03']]}\n"
     ]
    }
   ],
   "execution_count": 28
  },
  {
   "metadata": {
    "ExecuteTime": {
     "end_time": "2024-11-05T07:53:03.367590Z",
     "start_time": "2024-11-05T07:53:01.291680Z"
    }
   },
   "cell_type": "code",
   "source": [
    "# Create task\n",
    "# description is optional, default = \"\"\n",
    "# task_id and created_at are created by server\n",
    "# POST\n",
    "import requests\n",
    "create_task_url = 'http://localhost:8000/project_detail'\n",
    "data = {\n",
    "    \"creator_id\": 2, #创建请求的发起者\n",
    "    \"project_id\": 1, #在project_id项目创建\n",
    "    \"task_name\": \"test_task_name1\",\n",
    "    \"status\": \"Not start\",\n",
    "    \"priority\": \"High\",\n",
    "    \"due_date\":'2024-11-4',\n",
    "    \"users\" : ['testuser'] #should be list with username\n",
    "}\n",
    "response = requests.post(create_task_url, json=data)\n",
    "detail = response.json()\n",
    "print(detail)"
   ],
   "id": "3db49a0575e8708",
   "outputs": [
    {
     "name": "stdout",
     "output_type": "stream",
     "text": [
      "{'message': 'Task registered successfully'}\n"
     ]
    }
   ],
   "execution_count": 27
  },
  {
   "metadata": {
    "ExecuteTime": {
     "end_time": "2024-11-05T07:52:12.715411Z",
     "start_time": "2024-11-05T07:52:10.668335Z"
    }
   },
   "cell_type": "code",
   "source": [
    "# delete one task\n",
    "# DELETE\n",
    "import requests\n",
    "url = 'http://localhost:8000/project_detail'\n",
    "data = {\n",
    "    'task_id': 2,\n",
    "    \"creator_id\": 2, #这俩大概可以在前端判断？毕竟是打开一个项目后选择删除任务 (请求发起者\n",
    "    \"owner_id\": 2 #这俩大概可以在前端判断？毕竟是打开一个项目后选择删除任务\n",
    "}\n",
    "response = requests.delete(url, json=data)\n",
    "detail = response.json()\n",
    "print(detail)"
   ],
   "id": "cfdfbd0404089ed3",
   "outputs": [
    {
     "name": "stdout",
     "output_type": "stream",
     "text": [
      "{'message': 'Task deleted successfully'}\n"
     ]
    }
   ],
   "execution_count": 24
  },
  {
   "metadata": {
    "ExecuteTime": {
     "end_time": "2024-11-05T07:53:39.912692Z",
     "start_time": "2024-11-05T07:53:37.838590Z"
    }
   },
   "cell_type": "code",
   "source": [
    "# delete one project\n",
    "# DELETE\n",
    "import requests\n",
    "url = 'http://localhost:8000/project'\n",
    "data = {\n",
    "    \"creator_id\": 2,\n",
    "    \"project_id\": 4\n",
    "}\n",
    "response = requests.delete(url, json=data)\n",
    "detail = response.json()\n",
    "print(detail)"
   ],
   "id": "86898e8bc6651ea7",
   "outputs": [
    {
     "name": "stdout",
     "output_type": "stream",
     "text": [
      "{'message': 'Project deleted successfully'}\n"
     ]
    }
   ],
   "execution_count": 30
  },
  {
   "metadata": {
    "ExecuteTime": {
     "end_time": "2024-11-05T10:11:37.046987Z",
     "start_time": "2024-11-05T10:11:34.980743Z"
    }
   },
   "cell_type": "code",
   "source": [
    "# update one task\n",
    "# PUT\n",
    "import requests\n",
    "url = 'http://localhost:8000/project_detail'\n",
    "data = {\n",
    "    'task_name': 'updated_name', #可选\n",
    "    'description' : 'updated_description', #可选\n",
    "    'status': 'Testing', #可选\n",
    "    'priority': 'Low', #可选\n",
    "    'due_date': '2011-11-1', #可选\n",
    "    'task_id': 3, #可选\n",
    "    'user': {\n",
    "        'type': 'remove', #里面是 'add' or 'remove'\n",
    "        'users':[3,4] #里面是user_id\n",
    "    }, #可选\n",
    "    \"creator_id\": 2, #这俩大概可以在前端判断？毕竟是打开一个项目后选择删除任务 (请求发起者\n",
    "    \"owner_id\": 2 #这俩大概可以在前端判断？毕竟是打开一个项目后选择删除任务\n",
    "}\n",
    "response = requests.put(url, json=data)\n",
    "detail = response.json()\n",
    "print(detail)"
   ],
   "id": "94ca677bb041f406",
   "outputs": [
    {
     "name": "stdout",
     "output_type": "stream",
     "text": [
      "{'err': 'user not exits.', 'users:': [3, 4]}\n"
     ]
    }
   ],
   "execution_count": 65
  },
  {
   "metadata": {
    "ExecuteTime": {
     "end_time": "2024-11-05T10:27:00.374218Z",
     "start_time": "2024-11-05T10:26:58.306323Z"
    }
   },
   "cell_type": "code",
   "source": [
    "# update one project\n",
    "# PUT\n",
    "import requests\n",
    "url = 'http://localhost:8000/project'\n",
    "data = {\n",
    "    \"replace_owner_id\": 2, #可选\n",
    "    'project_name':\"updated_name\",#可选\n",
    "    'description':\"updated_description\",#可选\n",
    "    'project_id': 2,\n",
    "    \"creator_id\": 2, #这俩大概可以在前端判断？毕竟是打开一个项目后选择删除任务 (请求发起者\n",
    "    'owner_id': 2#这俩大概可以在前端判断？毕竟是打开一个项目后选择删除任务\n",
    "}\n",
    "response = requests.put(url, json=data)\n",
    "detail = response.json()\n",
    "print(detail)"
   ],
   "id": "434625732a2f8afd",
   "outputs": [
    {
     "name": "stdout",
     "output_type": "stream",
     "text": [
      "{'message': 'Project updated successfully'}\n"
     ]
    }
   ],
   "execution_count": 72
  },
  {
   "metadata": {},
   "cell_type": "code",
   "outputs": [],
   "execution_count": null,
   "source": "",
   "id": "2a53f4911f6e5666"
  }
 ],
 "metadata": {
  "kernelspec": {
   "display_name": "Python 3",
   "language": "python",
   "name": "python3"
  },
  "language_info": {
   "codemirror_mode": {
    "name": "ipython",
    "version": 2
   },
   "file_extension": ".py",
   "mimetype": "text/x-python",
   "name": "python",
   "nbconvert_exporter": "python",
   "pygments_lexer": "ipython2",
   "version": "2.7.6"
  }
 },
 "nbformat": 4,
 "nbformat_minor": 5
}
